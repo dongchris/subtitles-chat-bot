{
 "cells": [
  {
   "cell_type": "code",
   "execution_count": 12,
   "metadata": {
    "collapsed": true
   },
   "outputs": [],
   "source": [
    "import pickle\n",
    "import pandas as pd\n",
    "from textblob import TextBlob\n",
    "\n",
    "def load_obj(name):\n",
    "    with open('obj/' + name + '.pkl', 'rb') as f:\n",
    "        return pickle.load(f)"
   ]
  },
  {
   "cell_type": "code",
   "execution_count": 2,
   "metadata": {
    "collapsed": true
   },
   "outputs": [],
   "source": [
    "d = load_obj(\"processed_video_subtitle\")"
   ]
  },
  {
   "cell_type": "code",
   "execution_count": 3,
   "metadata": {
    "collapsed": true
   },
   "outputs": [],
   "source": [
    "subtitles = list(d.values())"
   ]
  },
  {
   "cell_type": "code",
   "execution_count": 4,
   "metadata": {
    "collapsed": true
   },
   "outputs": [],
   "source": [
    "videonames = list(d.keys())"
   ]
  },
  {
   "cell_type": "code",
   "execution_count": 5,
   "metadata": {
    "collapsed": true
   },
   "outputs": [],
   "source": [
    "paragraphs = [\" \".join(subtitles[i]) for i in range(len(subtitles))]"
   ]
  },
  {
   "cell_type": "code",
   "execution_count": 6,
   "metadata": {
    "collapsed": true
   },
   "outputs": [],
   "source": [
    "paragraphs = [TextBlob(paragraph) for paragraph in paragraphs]"
   ]
  },
  {
   "cell_type": "code",
   "execution_count": 21,
   "metadata": {
    "collapsed": true
   },
   "outputs": [],
   "source": [
    "sentiment_list = [(videonames[i], paragraph.sentiment[0], paragraphs[i]) for i, paragraph in enumerate(paragraphs)]"
   ]
  },
  {
   "cell_type": "code",
   "execution_count": 20,
   "metadata": {
    "collapsed": true,
    "scrolled": true
   },
   "outputs": [],
   "source": [
    "sorted_sentiment_list = sorted(sentiment_list, key = lambda x: x[1], reverse = True)"
   ]
  },
  {
   "cell_type": "code",
   "execution_count": 31,
   "metadata": {
    "scrolled": true
   },
   "outputs": [],
   "source": [
    "df = pd.DataFrame()\n",
    "df['sentiment'] = [video[1] for video in sentiment_list]  \n",
    "df['text'] = [\" \".join(subtitles[i]) for i in range(len(subtitles))]"
   ]
  },
  {
   "cell_type": "code",
   "execution_count": 33,
   "metadata": {},
   "outputs": [],
   "source": [
    "df.to_csv(\"sentiment.csv\", header = True, index = None)"
   ]
  },
  {
   "cell_type": "code",
   "execution_count": 9,
   "metadata": {
    "scrolled": false
   },
   "outputs": [
    {
     "data": {
      "text/plain": [
       "[('【チャンネル登録者数】パンダフルチャレンジ！【3,000人突破！】-RxjZScx-8XA.en.vtt',\n",
       "  1.0,\n",
       "  TextBlob(\"Over 1000 A.I.Channel Subscribers and Twitter Followers! One after another, people are subscribing♪ Ah~ A.I.Channel! [Beautiful!] Twitterー followers are over 1000 too! Ah~ so approachable! [Wonderful!] Encounters, connections\")),\n",
       " ('【踊ってみた】流行りのアレ、踊ってみ・・・？-hD3ZOwiw69U.en.vtt',\n",
       "  0.5469976251775569,\n",
       "  TextBlob(\"Waaaai! I’m the girl who likes Virtual YouTubers!! The Virtual YouTubers are great, right? Eh? Here’s a virtual girl that likes Keyakizaka46? If I don’t watch her, who will? So I’ll go see her Man! A really cute girl appeared! Right? I see... The virtual girl that likes Keyakizaka46 is dancing! She is very skilled! Right? It's great, how adorable! She’s incredibly beautiful! You’re great, Onee-chan! She got more intense! Can she get so intense? Incredible! Incredible! Incredible! Oh... Here comes the chorus What do you plan to do during the chorus? She doesn't do it! You don’t plan to do the chorus? Why? Do it! Do it! Do it! She doesn't do it!! Why don’t you do the chorus? Do it! Why? Do it! Do it! Please! Please! The first chorus has ended now She doesn't do it!! You don’t plan to do anything during the chorus? Really? Why? Do it! Do it! Do it! She’s not doing it! Please! Please! She doesn’t intend to do anything! What does this mean? What does it mean? She doesn't intend to do anything!! The name of the channel in which I appear that way is... A.I.Channel! There's more at the end! Nyanko Star is a lot of fun!\")),\n",
       " ('『ぽっぴっぽー』踊って歌ってみた！-HTsQYfgcN6c.en.vtt',\n",
       "  0.54375,\n",
       "  TextBlob(\"♪ Po-pi-po-pi-po-po-pi-po ♪ ♪ Po-pi-po-pi-po-po-pi-po ♪ ♪ Po-pi-po-pi-po-po-pi-po ♪ ♪ Po-pi-po-pi-po-po-pi-po ♪ ♪ Po-pi-po-pi-po-po-pi-po ♪ ♪ Po-pi-po-pi-po-po-pi-po ♪ ♪ Po-pi-po-pi-po-po-pi-po ♪ ♪ Po-pi-po-pi-po-po-pi-po ♪ ♪ Po-pi-po-pi-po-po-pi-po ♪ ♪ Po-pi-po-pi-po-po-pi-po ♪ ♪ Po-pi-po-pi-po-po-pi-po ♪ ♪ Po-piii! ♪ ♪ Come on, come on! ♪ (soiya soiya) ♪ Dance, dance! ♪ (dossee dossee) ♪ Come on, come on! ♪ (soiya soiya) ♪ Dance, dance! ♪ (dossee dossee) ♪ Now, drink it! You like it, don't you? Vegetable juice ♪ (saa nome omae suki daro? Yasai juusu) ♪ I've decided, I've decided just now ♪ (watashi ga kimeta ima kimeta) ♪ So drink it! My vegetable juice ♪ (dakara nonde watashi no yasai juusu) ♪ It costs 200 yeeen! ♪ (kakaku wa nihyaku eeen) ♪ Come on, come on! ♪ (soiya soiya) ♪ Dance, dance! ♪ (dossee dossee) ♪ Come on, come on! ♪ (soiya soiya) ♪ Dance, dance! ♪ (dossee dossee) ♪ Mild-tasting vegetable juice ♪ (maroyaka yasai juusu) ♪ Creamy, creamy vegetable juice ♪ (fuwa fuwa yasai juusu) ♪ The one that's best for you is the green juice ♪ (ichiban osusume na no wa midori no juusu) ♪ Po-pi-po-pi-po-po-pi-po ♪ ♪ Po-pi-po-pi-po-po-pi-po ♪ ♪ A vegetable-y-y-y ♪ (bejitaburu na-a-a) ♪ Po-pi-po-pi-po-po-pi-po ♪ ♪ Po-pi-po-pi-po-po-pi-po ♪ ♪ Overflowing with nutrients-ents-ents ♪ (seimei afureta-a-a) ♪ Po-pi-po-pi-po-po-pi-po ♪ ♪ Po-pi-po-pi-po-po-pi-po ♪ ♪ You too, now-ow-ow ♪ (anata no ima-a-a) ♪ Po-pi-po-pi-po-po-pi-po ♪ ♪ Po-pi-po-pi-po-po-pi-po ♪ ♪ Will come to love vegetable juice ♪ (yasai juusu ga suki ni naru) ♪ Po-piiii! ♪ ♪ Po-piiii! ♪ *♪ Come on, come on! ♪* ♪ Po-piiii! ♪ ♪ Dance, dance! ♪ (dossee dossee) ♪ Come on, come on! ♪ (soiya, soiya) ♪ Dance, dance! ♪ (dossee dossee) ♪ Hoi! ♪ ♪ Come on, come on! ♪ (soiya, soiya) ♪ Dance, dance! ♪ (dossee dossee) Original song produced by Lamaze-P feat. Hatsune Miku\"))]"
      ]
     },
     "execution_count": 9,
     "metadata": {},
     "output_type": "execute_result"
    }
   ],
   "source": [
    "sorted_sentiment_list[:3]"
   ]
  },
  {
   "cell_type": "code",
   "execution_count": 10,
   "metadata": {},
   "outputs": [
    {
     "data": {
      "text/plain": [
       "[('『メランコリック』歌って踊ってみた！【キズナアイver.】-_GByIfCSGL4.en.vtt',\n",
       "  -0.1636904761904762,\n",
       "  TextBlob(\"♪ I can't figure you out at all♪ ( zenzen tsukamenai kimi no koto) ♪ When I wasn't paying attention, yeah~♪ (zenzen shiranai uchi ni, yeah) ♪ You stole my heart away... and things like this…♪ (kokoro ubawareru nante koto) ♪ Should not be happening!♪ (aru hazu nai desho) ♪It could be an abrupt smile♪ (sore wa buaisou na egao dattari) ♪ Or it could be sunset on Sunday ♪ (sore wa nichiyoubi no higure dattari) ♪ Or it could be a period with lots of tests♪ (sore wa tesuto bakka no kikan dattari) ♪ Or it could be a melancholist just like you♪ (sore wa kimi to yuu na no merankorin-nisuto) ♪ I keep thinking to myself that trying to act tough… ♪ (teatari shidai tsuyoki de butsukatte mo) ♪ And confronting without a plan won’t get me anywhere in the end ♪ (nannimo te ni wa nokoranaitte omoikonderu) ♪ Whenever I need just a little courage… ♪ (chotto gurai no yuuki ni datte) ♪ I’d lock myself up into a tight ball♪ (chicchaku natte fusagi konderu) ♪ Because that is me♪ (watashi dakara) ♪ I can't figure you out at all♪ ( zenzen tsukamenai kimi no koto) ♪ When I wasn't paying attention♪ (zenzen shiranai uchi ni) ♪ You stole my heart away... and things like this…♪ (kokoro ubawareru nante koto) ♪ Should not be happening!♪ (aru hazu nai desho) ♪ You don't notice anything at all ♪ (zenzen kizukanai kimi nante) ♪ So I don't care about you, don't care about you at all ♪ (zenzen shiranai shiranai mon) ♪ Don't you \"hey hey\" me and stop smiling like that ♪ (\"nee nee\" janai wa kono egao) ♪ Or I'll lose my sleep again♪ (mata nemurenai desho) ♪ I can't figure you out at all♪ ( zenzen tsukamenai kimi no koto) ♪ When I wasn't paying attention, yeah~♪ (zenzen shiranai uchi ni, yeah) ♪ You stole my heart away... and things like this…♪ (kokoro ubawareru nante koto) ♪ Should not be happening!♪ (aru hazu nai desho)\")),\n",
       " ('【歌ってみた】『Hej Monika』歌ってるPewDiePieさんにインスパイアされてみた！！-RvB-kv9q7Pk.en.vtt',\n",
       "  -0.15866071428571427,\n",
       "  TextBlob(\"Monika! Hey, hey Monika, Hey to you Monika ♪ Hej, hej Monika, hej på dig Monika ♪ Hey, hey Monika, Hey to you Monika ♪ Hej, hej Monika, hej på dig Monika ♪ Hey, hey Monika, Hey to you Monika ♪ Hej, hej Monika, hej på dig Monika ♪ Hey Monika, Hey to you Monika ♪ Hej Monika, hej på dig Monika ♪ Cold looks, cold chills ♪ Kalla blickar, kalla kårar ♪ And you were only fourteen years old ♪ Du var bara 14 vårar ♪ Take my hand and show me the way ♪ Ta min hand och visa mig vägen ♪ I am yours in every way ♪ Jag är din i alla lägen ♪ Cold looks, cold chills ♪ Kalla blickar, kalla kårar ♪ And you were only fourteen years old ♪ Du var bara 14 vårar ♪ Take my hand and show me the way ♪ Ta min hand och visa mig vägen ♪ I am yours in every way ♪ Jag är din i alla lägen ♪ Hey, hey Monika, Hey to you Monika ♪ Hej, hej Monika, hej på dig Monika ♪ Hey, hey Monika, Hey to you Monika ♪ Hej, hej Monika, hej på dig Monika ♪ Hey, hey Monika, Hey to you Monika ♪ Hej, hej Monika, hej på dig Monika ♪ Hey Monika, Hey to you Monika ♪ Hej Monika, hej på dig Monika ♪ Hey, hey Monika, Hey to you Monika ♪ Hej, hej Monika, hej på dig Monika ♪ Hey, hey Monika, Hey to you Monika ♪ Hej, hej Monika, hej på dig Monika ♪ Hey, hey Monika, Hey to you Monika ♪ Hej, hej Monika, hej på dig Monika ♪ Hey Monika, Hey to you Monika ♪ Hej Monika, hej på dig Monika ♪ Hey, hey, hey Monika ♪ Hej, hej, hej Monika ♪ Hey, hey, hey Monika ♪ Hej, hej, hej Monika ♪ Hey, hey, hey Monika ♪ Hej, hej, hej Monika ♪ Hey, hey, hey Monika ♪ Hej, hej, hej Monika ♪ Monika ♪ Monika ♪ Nic &amp; The Family – Hej Monika (Party In Backyard Remix, Kizuna AI Cover) Looking for translators! JP to EN/ES Join our Discord for all AI-chan news! https://discord.gg/RYtUrt6 Captions: Loserbait Special Thanks: https://lyricstranslate.com/en/hej-hej-monika-hi-hi-monica.html\")),\n",
       " ('【年末だからいいよね？】面白くなさそうな企画全部やってみた！！-BFXzMZyGXA8.en.vtt',\n",
       "  -0.1063451479076479,\n",
       "  TextBlob(\"Hello everyone! Virtual YouTuber Kizuna Ai here! 2017 is already coming to an end When we talk about the New Year... We talk about cleaning! So the plan for today's video is... this! \"Video ideas that were scrapped because they seemed boring, but let's do them anyway because it's end of year festival~!\"\" In order to upload videos to YouTube I need to come up with lots and lots of ideas And among those many ideas... There are some that are... not really... Some... Some boring ideas... Come up as well..!! Well, isn't just coming up with them amazing? So! These children of mine... We're going to go and do them today! Alright, let's go~! \"Scrapped ideas revelation!\" \"If I stumble on a word, video immediately ends!\" For a super high-spec A.I like me Nothing is impossible! So... I'm going to say some tongue twisters! Alright If I stumble on any word... The video instantly ends!! Red wrapping paper Blue wrapping paper Yellow wrapping paper Red wrap- wrap *completely fails* A.I.Channel! \"I tried to do a A.I.Channel style musical\" Music... Start! ♪ I am Ai ♪ ...Hmm? ♪ Heh- heh, hmm~ ♪ Wait... ♪ Ten, te, ren, ten ♪ ♪ Ten, ten~ ♪ Um... ♪ Tu, tu, ru, tun~ ♪ Hehehehe... Uh-eh? The song changed... Uh... Run.. ru- ♪ My name is Ai~ ♪ Ah, the song just ended... Ahahahaha What do I do with this?! Impromptu singing is impossible!! ♪ Tu, run.. tun... ♪ ♪ I am Ai~ ♪ Hmm? ♪ Pa, pa.. pu tuun... ♪ Ahh... I don't- want- want to.... hmm? Hmm? I don't even know this song!! It's impossible!! \"Let's come up with something to replace rock-paper-scissors!\" Do you know rock-paper-scissors? People all over the world do, don't they? Whenever there's a dispute... Rock! Paper! Scissors! Like that When I went to the event I even did it with everyone who came to see me! And so... I want to come up with something like that! Rock... and go!! ...The same? Mmm... Rock-paper-scissors... Ai-chan? Random Word Generator? Easel...? Pfft And so... I was thinking for 5~6 hours, but... Nothing!! \"Ai-chan the assassin!!\" I started with the title And was thinking what kind of video to take, but... Ti.. tle... Assassin? Yes When I was came up with this... I might have been irritated Right! So... It's the end of year, so who cares! ..And so I've presented the scrapped ideas! If you're coming up with ideas all day by yourself Even if you're a super A.I You sometimes think... \"What does interesting even mean?!\"\"))]"
      ]
     },
     "execution_count": 10,
     "metadata": {},
     "output_type": "execute_result"
    }
   ],
   "source": [
    "sorted_sentiment_list[::-1][:3]"
   ]
  }
 ],
 "metadata": {
  "kernelspec": {
   "display_name": "Python 3",
   "language": "python",
   "name": "python3"
  },
  "language_info": {
   "codemirror_mode": {
    "name": "ipython",
    "version": 3
   },
   "file_extension": ".py",
   "mimetype": "text/x-python",
   "name": "python",
   "nbconvert_exporter": "python",
   "pygments_lexer": "ipython3",
   "version": "3.6.2"
  }
 },
 "nbformat": 4,
 "nbformat_minor": 2
}
