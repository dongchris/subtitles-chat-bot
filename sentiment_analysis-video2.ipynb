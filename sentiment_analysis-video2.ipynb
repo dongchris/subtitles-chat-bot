{
 "cells": [
  {
   "cell_type": "code",
   "execution_count": 1,
   "metadata": {
    "collapsed": true
   },
   "outputs": [],
   "source": [
    "import pickle\n",
    "from textblob import TextBlob\n",
    "\n",
    "def load_obj(name):\n",
    "    with open('obj/' + name + '.pkl', 'rb') as f:\n",
    "        return pickle.load(f)"
   ]
  },
  {
   "cell_type": "code",
   "execution_count": 2,
   "metadata": {
    "collapsed": true
   },
   "outputs": [],
   "source": [
    "d = load_obj(\"processed_video_subtitle2\")"
   ]
  },
  {
   "cell_type": "code",
   "execution_count": 3,
   "metadata": {
    "collapsed": true
   },
   "outputs": [],
   "source": [
    "subtitles = list(d.values())"
   ]
  },
  {
   "cell_type": "code",
   "execution_count": 4,
   "metadata": {
    "collapsed": true
   },
   "outputs": [],
   "source": [
    "videonames = list(d.keys())"
   ]
  },
  {
   "cell_type": "code",
   "execution_count": 5,
   "metadata": {
    "collapsed": true
   },
   "outputs": [],
   "source": [
    "paragraphs = [\" \".join(subtitles[i]) for i in range(len(subtitles))]"
   ]
  },
  {
   "cell_type": "code",
   "execution_count": 6,
   "metadata": {
    "collapsed": true
   },
   "outputs": [],
   "source": [
    "paragraphs = [TextBlob(paragraph) for paragraph in paragraphs]"
   ]
  },
  {
   "cell_type": "code",
   "execution_count": 7,
   "metadata": {
    "collapsed": true
   },
   "outputs": [],
   "source": [
    "sentiment_list = [(videonames[i], paragraph.sentiment[0], paragraphs[i]) for i, paragraph in enumerate(paragraphs)]"
   ]
  },
  {
   "cell_type": "code",
   "execution_count": 8,
   "metadata": {
    "collapsed": true,
    "scrolled": true
   },
   "outputs": [],
   "source": [
    "sentiment_list.sort(key = lambda x: x[1], reverse = True)"
   ]
  },
  {
   "cell_type": "code",
   "execution_count": 9,
   "metadata": {
    "scrolled": true
   },
   "outputs": [
    {
     "data": {
      "text/plain": [
       "[('Race You-a4lNHELNSyA.en.vtt',\n",
       "  0.33734693877551025,\n",
       "  TextBlob(\"Hey Race You (snort) Stupid Dang it Hey Race You Race You Race you Aaah Dang it YES! Dang it Dang it! Yeah! Hey Hi Have we met? No, I don't think so- I don't think so either because I would of definitely remembered a beautiful face like yours. Can I buy you a drink? Whatever he's getting you, I can get you a much more expensive one. You don't strike me as a kind of girl who's superficial like that. Says the guy who still lives at home with his mom. I just love me mom. Yeah, I'll have a whisky ginger. No way. Thats- my favorite drink. Really? I'm Phil I-I'm Chris. I'm sorry, what was your name? I love your earrings. I love your ears. And I love that dress, you look gorgeous. Yeah, I would love to see that dress on your bedroom floor. Excuse me? Uh- because you had uh- just changed into your pajamas. I just think a girl looks the best when she's at home in sweats and t-shirts. So do I, but I also appreciate it when a girl puts in the time and energy to look as to look as stunning as you do. For example, that nail polish, number 527 Chanel right? Yeah, exactly. What do you say we see each other again? Uhh- I like your earring. Already said that. Okay. So what's your number? It's 310- I love those numbers. (laugh) 208 Great, keep going. 43 (gasp) Dang it! And that's how your mommy and I met. I love that story. Hey, you wanna get ready for bed? Okay. Race you! Pfft I win! Dang it! Action. Hi Uh- Hi Have we met? No I don't think so. (laughter) You know, I-I almost caught those last ones, if you just wanna tap it in there right- Right- You know what, it's just a couple I'll- I'll guess it. Can't be that many iterations so I'll just give you a call when I figure it out, Alright, have fun.\")),\n",
       " ('Single by 30 Ep 4 Free Preview-LuI4ZdmTZ3I.en.vtt',\n",
       "  0.31291424093148223,\n",
       "  TextBlob(\"♪♪ - Hey, I'm Wes. - I'm Philip, and we're Wong Fu Productions. And we directed \"Single by 30.\" You know, one of the hardest parts about starting a new relationship is meeting their friends. Yeah, you know, one of the best parts about a new relationship is meeting their friends. You just said the same thing. I know. They're gonna love you. Just be yourself, don't talk politics, and ask about work, they love that. It's starting to feel like a test. Relax, I just want it to go well. Hey, and later tonight, I say we dominate them in Flip Cup. It's not that kind of party, Peter. Oh. Hey, come meet my co-worker, Jessie and her husband Rob. Okay. - Hey, guys. - Hello. This is Peter, my boyfriend. Hi, Peter, I'm Jessie. This is my husband, Rob. - How are ya? - Nice to meet you, guys. You, too. Jessie and Rob just had a baby. Oh, that's so great. Boy or a girl? Oh, we're gonna let him or her decide. It's the right thing to do. Obviously. Wow, so, doctors and parents. How do you do it? - They're my heroes. - Awww. A lot of teamwork - and a lot of coffee. - Coffee, so much coffee. Hahahaha. How about you, Peter? Oh, I'm in the family business. You know, printing... for apparel, printing on apparel. Fashion, that's super-exciting. It's not the fashion you're thinking. Oh, Peter's being modest. He actually runs his own company and has a lot of great clients. It's actually my parents' company. Well, we're gonna go get refills. Okay. Why did you undersell yourself? Well, it's not like we're Versace. I mean, our last client was the Toluca Lake Fighting Scorpions. I don't think an under-seven soccer team is that impressive. Not when you say it like that. How would you say it? I do the apparel branding for LA sports teams. That does sound better. [laughs] ♪♪\")),\n",
       " ('The Truth About Being SINGLE-ILtkJSSpSzM.en.vtt',\n",
       "  0.29371825499311294,\n",
       "  TextBlob(\"I love you. I love you. I love you. -I love you. -I love you. I love the way you make me feel. You make me feel like, anything is possible. You always make me happy, And you show me things that, I could have never imagined. You and I, we just... fit. You know what I want, and I always know what you need. It's all the little things. You've got a beautiful sole. You could just be cheesy sometimes, -I love it. -I would stand in... rainstorms and blizzards just to be with you. You didn't always look this good. What I mean is– After all these years you just keep getting better and better. You're so hot, You make me look good. And I'm super selfish, I always want you to myself. When things get difficult, I love that we can always start over. I love that there's two of you, and I will never crease you! I love how you feel in my hands. and that you're Bluetooth-enabled. There's always something new with you, and I love that you have no commercials. I love how you make all my problems go away. [gulp] I love how you make all my problems go away. Wait, did I already say that? I love that you're only a phone call away. And only $6.99 on Wednesdays?! [gulps] Ah... [door bell] Pepperoni pizza? Uh... yeah. So, uh... you eatin' alone tonight? Well I... guess I am missing a little bit of, heat, now aren't I? You have any of those chili flakes? You know, the ones in the packets? Yeah! Thanks! Bye! Hey. So are we still gonna go out tonight or what? Megan, no! Why? Every time... Hey everyone! Hope you guys liked that sketch. Tell us in the comments what you're in love with this Valentines' Day. Hopefully, it's alive. Enjoy the bloopers! Ah I just wanna eat you up. I just wanna eat you! You're so hot, I just wanna eat you up. -And you're so instant. -[text message chimes] Like that text message. -It was instant text message. -[giggles] Sometimes people call you a square but, -I just think you're more of a triangle.\"))]"
      ]
     },
     "execution_count": 9,
     "metadata": {},
     "output_type": "execute_result"
    }
   ],
   "source": [
    "sentiment_list[:3]"
   ]
  },
  {
   "cell_type": "code",
   "execution_count": 10,
   "metadata": {},
   "outputs": [
    {
     "data": {
      "text/plain": [
       "[('The Other Side of Yesterday-2hxznZLWzn4.en.vtt',\n",
       "  -0.03849862258953169,\n",
       "  TextBlob(\"Hello there Iris? Do I know you? What is this? I know you're confused but don't worry I'll explain everything Who are you? My name is Kellen And I've been looking for you Why am I here again? The museum? Yes I was here yesterday Why am I back again? You were at the museum But you've never been to this place, Iris This place? Well, different people call it different things But I think the best answer to that is a simple one This is. Yesterday. What do you mean? One day into the past. That's impossible. Everything is impossible, until you experience it. Iris, what do you know about time travel? Truth is we've all experienced it Time travel is every day People spend theirs lives traveling from one day to the next. Yesterday to today, today to tomorrow. I mean if you think about it Isn't living itself, essentially traveling through time. Imagine each grain of sand as a person This is everyone migrating from one day, to the next. See how this space is pretty much empty now? That's because almost everyone has moved on to the next day Almost everyone? That's me? Okay, even if I did believe you. How did I end up here? Get left behind. It happens Not a lot, but it happens. So there have been others? I'm not the only one? Everyone I've met here, has a different story. Some people choose to live in the past. And others can't escape their fear of the future Some, are just simply lost. I think I know the feeling. Which one? All of them. Iris, why did you come to the museum yesterday? I just wanted to finish our day. It's been two years since the accident. And they're all gone. Mom, Dad, Alex. Why not me? What happened? It was raining, really hard that day. And we were on our way to the museum. This. This museum. And then, out of no where a car hits us from the side. My dad loses control of the car and we crash. The next thing I know, I woke up in the hospital. And I was alone. I came here yesterday, to know how it could've been. How it should've been. I just wanted to finish our day. I was the last thing to do before I... *ahem* Did it. Did it help you to revisit? They're still gone. Nothing will change that. And now, I'm stranded in this empty void. You're not stranded. That's why I'm here. I'll get you back. No one is ever really gone. As long as they're remembered, they live on. That includes your family. Thank you. These stairs will take you where you need to be. Just, straight ahead? That's it? That's it. There's nothing for me on the other side. What if I stay here? Living in yesterday won't bring you closer to your family Iris. You will see them again. But not with your eyes looking back. I don't know if I can do that. Everything is impossible, until you experience it. We're all time travelers, even though our paths are unique and the challenges presented. One truth remains constant. What's to come tomorrow? What's left behind in yesterday?\")),\n",
       " ('SANTA IS REAL! ft Anna Akana-8Hz8lf4SdUA.en.vtt',\n",
       "  -0.019823637462797614,\n",
       "  TextBlob(\"Hey I just wanna say thanks again for letting me crash your Christmas party Hey now, no one should spend their Christmas Eve alone. Ooh, milk and cookies, may I? Uh...no, you can't - they're for Santa. [Laughing] Okay. Geez, are you serious? What the heck? You didn't tell him yet? Anna'll be here any minute. Tell me what? Uh... Well, we have this friend, that uh- Our friend Anna still believes in Santa Claus. So don't screw things up. Like, she believes in the SPIRIT of Santa, or... No, uh, she believes in just Santa. The guy. Still. What? How is that even possible? I don't know. This is morally wrong; I hope you guys know. Somebody needs to tell her tonight. No! Can you just imagine what that'd do to her? I mean, YEARS of holidays ruined. Think about how deep-rooted this figure is in your life now. I mean- [Proceeds to do a mindblown noise effect] This is not an ordinary secret. It doesn't matter, just- [Doorbell rings] Oh shoot. That's her. Don't. Say. A word. Wes: It's your favorite time of year! Anna: Hello everyone! Anna, this is Philip; he's spending Christmas with us because his family's out of town. Aww...That is so sad Don't worry though. I'm sure that the big guy up there has some very special plans for you. [Awkwardly] Well gosh, I hope so! *gasp* Ohh, the milk and cookies for him! Oh, you know every year. I wait, and I wait by the fireplace, but I just can't seem to stay awake! Have you ever thought about, like, a video camera or something?? You know, I tried that one year, but the whole tape was erased. My parents said his sleigh probably causes some kind of electrical disturbance in the air, but I think it's magic. *Whispering* Oh my god! Uh, why don't we start, uh, Secret Santa? Yeah, everyone? Let's go. Everyone ready? Who's your Secret Santa? Uh-uh! I can't tell you, because that would be cheating, and I have to stay on Santa's nice list. Come on, I'm just wondering who, just- That is so naughty. I'm not gonna do that. Dude, stop freaking out, just let me see- He would know about it. Philip: He doesn't know. He doesn't care. Anna: He would know about it! Philip: Just...you can show me! Anna: He listens all the time! THIS IS CALLED SECRET SANTA! I am not gonna cheat in a game named after him! What's going on? Phil is trying to cheat. Look, Phil. If you want coal in your stockings for Christmas, be my guest. But don't drag me off the nice list. Anna, there's no- -no reason to get upset. Santa's no- -not going to blame you for Phil's bad behavior! Because he checks that list twice, you know. There's no Santa! *everyone gasps* There's no coal, there's no list, There's no milk and cookies; Santa's not real. What did you say? Anna... There's not really a... I'm just...I'm sorry, I shouldn't have said anything. If you guys don't mind, um... I'll just spend, like, a moment by myself. [Door clicks shut] [Low whisper] I'm sorry, I...okay, okay. Hey Anna, uhm... I'm sorry. I'm sorry for ruining something, so special to you. I feel awful. But if you think about it, I mean, Santa is real. Right? I mean, in our hearts, where it's the most important. Right? *laugh* Oh my God, are you serious? Wowwwwww okay. What...the... Hey, do you want some? They keep these Christmas parties \"dry\" so I don't accidentally do something \"naughty\". Wait, so you don't actually believe that Santa Claus is real? Dude, I'm twenty-five years old. How the hell could I still think that Santa's real? No, I just put on the act to mess with people. You would not believe the hoops my friends jump through. Ugh, I'm just getting such good stuff for Christmas every year. Last year, they got me an iPhone and a trip to Hawaii What? That...is genius. I know. And you just ruined it for me! Thanks a lot. Sorry. Ehh, it's okay. I had a good run. Come on, let's go back inside. I think I can use this: the sympathy from a traumatizing experience. Oooh. Hey, did you put an Xbox on your Christmas wishlist too? Yeah, I did that. [Bells ring from Santa's attire] *sobbing* I'll remember you. YOU'RE not real. I don't believe in YOU. You little troll. *kicks* *breaks* I'm getting out of this place. Rudolph!\")),\n",
       " ('This is how we never made out... ft. Alex Wassabi & LaurDIY-3QhAyfna4eA.en.vtt',\n",
       "  -0.005628926917989424,\n",
       "  TextBlob(\"Is he doing what I think he's doing? What am I doing and of the day parking at a romantic lookout point? I hope it's not too obvious This is a makeout spot. This is totally a makeout spot. Yes. It's about time, okay Maybe this was too aggressive. should play it chill We've been on three dates now hurry up and make a move. I think I can see my house from here That's your move. Cows are always up here grazing. So if you smell something, it's probably them (sure it is) Oh dear. God It's getting worse. Okay? He's probably nervous. Maybe I should let him know I'm comfortable oh Oh my gooood She unbuckled her seat belt. She's getting cozy. I can do that, too Just grab a seat lever to gradually refine !!! Too cozy I'm actually used to power seats. You know? Wait why am I waiting for him to show interest first? I know what I want. I'll initiate Oh how about some physical contact and let's know I'm ready For a second I thought the North Star was doing to a south star, but I realized it's just a plane AHAHAHAHA! Punch* Ha he should get the hint now Aaaaaaa!! (Alex you're a man god dammit) Calm down Rhonda Rousey! Oh no, how's my breath? I can't make it with bad breath Ok casually bring my hand to my mouth Cop Exhales sniffs Did she just yawn? Oh God she's bored. I'm boring? She probably thinks I brought her up here to talk about astrology Stupid! stupid! stupid! I just had to order Garlic Parmesan wings tonight Oh, wait, my emergency mints. I knew you come in handy now to get them into my mouth She's getting impatient Er, let's see what's on the radio Radio?? He doesn't want to talk? Maybe he's not interested (just maybe) [Radio] in aggregate the results Suggested that European banks were in a healthier position than when the last exercise was conducted in autumn 24 a do stuff He's too intellectual. I don't know I can contribute to this conversation?? Okay. I know none of these words I actually heard this one last week, and if you ask me, it's quite Dubstep could be romantic right? this totally puts me in the mood if I were a robot Ahh. Espenol. the language of love (what?) Mariachi? All right, I can't be this guy at all and I'm just hungry (your always hungry) mmM tacos Did she just lick her lips? It's a sign Why is he looking at me like that? she sent the invite it's time for me to RSVP! Yeah! (go get her!) Ohh. He just did a quick lip glance! Is he going for it? I'm going for it. Holy crap. This is happening Oh, shoot. I still have them in my mouth! Tilt right. hes going right. Stay on target Beeep!!!* (dammit its ruined) I swallowed my mint I know gross, right? Yeah, totally making it a lookout point? So cliche. Tell me about it. Dang it I'll take you home now Dang it Alright sure. I guess I'll just have to wait till the next chance Whenever that is So hang out tomorrow? Yeah!\"))]"
      ]
     },
     "execution_count": 10,
     "metadata": {},
     "output_type": "execute_result"
    }
   ],
   "source": [
    "sentiment_list[::-1][:3]"
   ]
  }
 ],
 "metadata": {
  "kernelspec": {
   "display_name": "Python 3",
   "language": "python",
   "name": "python3"
  },
  "language_info": {
   "codemirror_mode": {
    "name": "ipython",
    "version": 3
   },
   "file_extension": ".py",
   "mimetype": "text/x-python",
   "name": "python",
   "nbconvert_exporter": "python",
   "pygments_lexer": "ipython3",
   "version": "3.6.2"
  }
 },
 "nbformat": 4,
 "nbformat_minor": 2
}
