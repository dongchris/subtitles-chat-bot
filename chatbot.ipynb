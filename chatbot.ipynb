{
 "cells": [
  {
   "cell_type": "code",
   "execution_count": 1,
   "metadata": {
    "collapsed": true
   },
   "outputs": [],
   "source": [
    "from chatterbot import ChatBot\n",
    "from chatterbot.trainers import ListTrainer\n",
    "import pickle\n",
    "import string\n",
    "import random\n",
    "\n",
    "def load_obj(name):\n",
    "    with open('obj/' + name + '.pkl', 'rb') as f:\n",
    "        return pickle.load(f)\n",
    "\n",
    "d = load_obj(\"line_by_line_subtitle2\")\n",
    "\n",
    "data = []\n",
    "for i, script in enumerate(d):\n",
    "    data.append([line.strip(string.punctuation).strip().lower() for line in script])\n",
    "\n"
   ]
  },
  {
   "cell_type": "code",
   "execution_count": null,
   "metadata": {},
   "outputs": [
    {
     "name": "stdout",
     "output_type": "stream",
     "text": [
      "Training data...\n",
      "List Trainer: [####################] 100%\n",
      "List Trainer: [####################] 100%\n",
      "List Trainer: [####################] 100%\n",
      "Training has finished.\n"
     ]
    }
   ],
   "source": [
    "chatterbot = ChatBot(\"Chat\")\n",
    "\n",
    "chatterbot.set_trainer(ListTrainer)\n",
    "print(\"Training data...\")\n",
    "\n",
    "for i in random.sample(range(len(data)), k = 3):\n",
    "    chatterbot.train(data[i])\n",
    "\n",
    "print(\"Training has finished.\")"
   ]
  },
  {
   "cell_type": "code",
   "execution_count": null,
   "metadata": {
    "scrolled": false
   },
   "outputs": [
    {
     "name": "stdout",
     "output_type": "stream",
     "text": [
      "You: hi\n",
      "Bot:  dreams to punch josh\n",
      "You: who's josh?\n",
      "Bot:  hey! it is you\n",
      "You: what happened?\n",
      "Bot:  this is to remind you of how hard you fell for me when\n",
      "You: okay..\n",
      "Bot:  yeah? we're okay\n",
      "You: no we're not\n",
      "Bot:  well, it's gonna be one or the other\n",
      "You: sure\n",
      "Bot:  our lives will continue on in different directions\n"
     ]
    }
   ],
   "source": [
    "while True:\n",
    "    request = input('You: ')\n",
    "    response = chatterbot.get_response(request)\n",
    "    \n",
    "    print('Bot: ', response)"
   ]
  }
 ],
 "metadata": {
  "kernelspec": {
   "display_name": "Python 3",
   "language": "python",
   "name": "python3"
  },
  "language_info": {
   "codemirror_mode": {
    "name": "ipython",
    "version": 3
   },
   "file_extension": ".py",
   "mimetype": "text/x-python",
   "name": "python",
   "nbconvert_exporter": "python",
   "pygments_lexer": "ipython3",
   "version": "3.6.2"
  }
 },
 "nbformat": 4,
 "nbformat_minor": 2
}
