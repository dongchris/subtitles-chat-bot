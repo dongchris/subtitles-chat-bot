{
 "cells": [
  {
   "cell_type": "code",
   "execution_count": 1,
   "metadata": {
    "collapsed": true
   },
   "outputs": [],
   "source": [
    "from summarizer import summarize\n",
    "import pickle\n",
    "import re"
   ]
  },
  {
   "cell_type": "code",
   "execution_count": 2,
   "metadata": {
    "collapsed": true
   },
   "outputs": [],
   "source": [
    "def load_obj(name):\n",
    "    with open('obj/' + name + '.pkl', 'rb') as f:\n",
    "        return pickle.load(f)"
   ]
  },
  {
   "cell_type": "code",
   "execution_count": 3,
   "metadata": {
    "collapsed": true
   },
   "outputs": [],
   "source": [
    "d = load_obj(\"processed_video_subtitle2\")"
   ]
  },
  {
   "cell_type": "code",
   "execution_count": 4,
   "metadata": {
    "collapsed": true
   },
   "outputs": [],
   "source": [
    "subtitles = list(d.values())\n",
    "videonames = list(d.keys())"
   ]
  },
  {
   "cell_type": "code",
   "execution_count": 5,
   "metadata": {
    "collapsed": true
   },
   "outputs": [],
   "source": [
    "paragraphs = [\" \".join(subtitles[i]) for i in range(len(subtitles))]"
   ]
  },
  {
   "cell_type": "code",
   "execution_count": 6,
   "metadata": {},
   "outputs": [
    {
     "name": "stdout",
     "output_type": "stream",
     "text": [
      "How Many People Know Wong Fu-g7nod5mS46Y.en.vtt\n",
      "['[ding!]', '[ding!', \"- I'd say no - Imma say no - Are you sure she's not like part, you know, Hawaiian or Pacific Islander, you know?\"]\n",
      "https://www.youtube.com/watch?v=g7nod5mS46Y \n",
      "\n",
      "----------------------------------------------------------------------------------------------------\n",
      "The Truth About Being SINGLE-ILtkJSSpSzM.en.vtt\n",
      "['You always make me happy, And you show me things that, I could have never imagined.', 'You know what I want, and I always know what you need.', \"-[giggles] Sometimes people call you a square but, -I just think you're more of a triangle.\"]\n",
      "https://www.youtube.com/watch?v=g7nod5mS46Y \n",
      "\n",
      "----------------------------------------------------------------------------------------------------\n",
      "From Here On Out-RboSq7vxKqs.en.vtt\n",
      "['Yeah.', '-Yeah.', 'Yeah.']\n",
      "https://www.youtube.com/watch?v=g7nod5mS46Y \n",
      "\n",
      "----------------------------------------------------------------------------------------------------\n",
      "Single by 30 - Episode 6 Free Preview-VBAIOPUAOkQ.en.vtt\n",
      "['And we directed \"Single by 30.\"', \"But...if you think about it, since we created them, they're like our imaginary friends.\", \"Uh... First of all, I don't think you set the bar up very high with the ex-boyfriend of yours, Edmundo.\"]\n",
      "https://www.youtube.com/watch?v=g7nod5mS46Y \n",
      "\n",
      "----------------------------------------------------------------------------------------------------\n",
      "My K-Pop Boyfriend ft. BgA-Yc5SeffdHiI.en.vtt\n",
      "['Her boyfriend-- now EX-boyfriend was a K-pop star!', \"Ashley, I'm very sorry to ruin your k-pop boyfriend dreams couldn't just let me have it, could you I'm sorry guys We got some really exciting news, though!\", 'so if you guys wanna support you can go to the link below or wongfustore.com and get your own nice guy gear!']\n",
      "https://www.youtube.com/watch?v=g7nod5mS46Y \n",
      "\n",
      "----------------------------------------------------------------------------------------------------\n",
      "COMMENTS IN CARS - 'BgA' ft. JuNCurryAhn-GZkObqz_6qs.en.vtt\n",
      "['Phil: Hey everyone, welcome to another episode of... All: Comments In Cars!', \"(laughter) Phil: For those of you that don't know, this is our show where we respond to the comments that you guys leave on our videos.\", \"We thought we'd respond to the comments on our BgA video!\"]\n",
      "https://www.youtube.com/watch?v=g7nod5mS46Y \n",
      "\n",
      "----------------------------------------------------------------------------------------------------\n",
      "Linappropriate-D2Bs5U5B3SY.en.vtt\n",
      "[\"Okay babe, I'm ready for bed now- Jeff, were you- Hey babe.\", \"(sighs) Look, baby, it's just a little inspiration before I go to bed.\", 'Steve.']\n",
      "https://www.youtube.com/watch?v=g7nod5mS46Y \n",
      "\n",
      "----------------------------------------------------------------------------------------------------\n",
      "'I love you' isn't enough - ACCUMULATED-xb2hqzs6VGE.en.vtt\n",
      "['- Yeah.', \"- Yeah... - 'I love you' was the epitome of your feelings for someone It meant you two were no longer kids.\", \"'I love you' was enough before other 'I love you's.\"]\n",
      "https://www.youtube.com/watch?v=g7nod5mS46Y \n",
      "\n",
      "----------------------------------------------------------------------------------------------------\n",
      "Too Fast, Too Thirteous _ Single by 30 _ Ep 1-E1ztTOYICtk.en.vtt\n",
      "['Oh, okay,<i> sure.</i> I\\'ll be 30, jobless, single, living on my parent\\'s couch and muttering to myself \"I\\'m just, going with the flow.\"', \"You didn't see yourself single at 30, I didn't see myself single at 30.\", \"First and foremost, if we're both still single by the time I turn 30, then... Let's go for it.\"]\n",
      "https://www.youtube.com/watch?v=g7nod5mS46Y \n",
      "\n",
      "----------------------------------------------------------------------------------------------------\n",
      "Why is Santa Asian ft. Randall Park-6nUGmO50O8E.en.vtt\n",
      "['Santa?', \"Santa Claus isn't Asian.\", 'Santa is Asian.']\n",
      "https://www.youtube.com/watch?v=g7nod5mS46Y \n",
      "\n",
      "----------------------------------------------------------------------------------------------------\n"
     ]
    }
   ],
   "source": [
    "for i in range(10):\n",
    "    print(videonames[i])\n",
    "    print(summarize(videonames[i], paragraphs[i]))\n",
    "    print(\"https://www.youtube.com/watch?v=\" + re.findall(r'\\-([\\d\\w]+)\\.en.vtt', videonames[0])[0], \"\\n\")\n",
    "    print('-'*100)"
   ]
  }
 ],
 "metadata": {
  "kernelspec": {
   "display_name": "Python 3",
   "language": "python",
   "name": "python3"
  },
  "language_info": {
   "codemirror_mode": {
    "name": "ipython",
    "version": 3
   },
   "file_extension": ".py",
   "mimetype": "text/x-python",
   "name": "python",
   "nbconvert_exporter": "python",
   "pygments_lexer": "ipython3",
   "version": "3.6.2"
  }
 },
 "nbformat": 4,
 "nbformat_minor": 2
}
